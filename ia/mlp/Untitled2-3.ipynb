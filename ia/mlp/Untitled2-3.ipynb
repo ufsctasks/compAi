{
  "nbformat": 4,
  "nbformat_minor": 0,
  "metadata": {
    "colab": {
      "provenance": []
    },
    "kernelspec": {
      "name": "python3",
      "display_name": "Python 3"
    },
    "language_info": {
      "name": "python"
    }
  },
  "cells": [
    {
      "cell_type": "code",
      "source": [],
      "metadata": {
        "id": "OVQKlN9MaFsl"
      },
      "execution_count": null,
      "outputs": []
    },
    {
      "cell_type": "code",
      "source": [
        "import numpy as np\n",
        "from sklearn.neural_network import MLPClassifier\n",
        "from sklearn.metrics import accuracy_score\n",
        "from sklearn.model_selection import train_test_split\n",
        "from sklearn.preprocessing import StandardScaler\n",
        "\n",
        "# Lista completa de combinações binárias para Braille\n",
        "braille_combinations = [\n",
        "    [1, 0, 0, 0, 0, 0],  # 0\n",
        "    [0, 1, 0, 0, 0, 0],  # 1\n",
        "    [1, 1, 0, 0, 0, 0],  # 2\n",
        "    [0, 0, 1, 0, 0, 0],  # 3\n",
        "    [1, 0, 1, 0, 0, 0],  # 4\n",
        "    [0, 1, 1, 0, 0, 0],  # 5\n",
        "    [1, 1, 1, 0, 0, 0],  # 6\n",
        "    [0, 0, 0, 1, 0, 0],  # 7\n",
        "    [1, 0, 0, 1, 0, 0],  # 8\n",
        "    [0, 1, 0, 1, 0, 0],  # 9\n",
        "    [1, 1, 0, 1, 0, 0],  # 10\n",
        "    [0, 0, 1, 1, 0, 0],  # 11\n",
        "    [1, 0, 1, 1, 0, 0],  # 12\n",
        "    [0, 1, 1, 1, 0, 0],  # 13\n",
        "    [1, 1, 1, 1, 0, 0],  # 14\n",
        "    [0, 0, 0, 0, 1, 0],  # 15\n",
        "    [1, 0, 0, 0, 1, 0],  # 16\n",
        "    [0, 1, 0, 0, 1, 0],  # 17\n",
        "    [1, 1, 0, 0, 1, 0],  # 18\n",
        "    [0, 0, 1, 0, 1, 0],  # 19\n",
        "    [1, 0, 1, 0, 1, 0],  # 20\n",
        "    [0, 1, 1, 0, 1, 0],  # 21\n",
        "    [1, 1, 1, 0, 1, 0],  # 22\n",
        "    [0, 0, 0, 1, 1, 0],  # 23\n",
        "    [1, 0, 0, 1, 1, 0],  # 24\n",
        "    [0, 1, 0, 1, 1, 0],  # 25\n",
        "    [1, 1, 0, 1, 1, 0],  # 26\n",
        "    [0, 0, 1, 1, 1, 0],  # 27\n",
        "    [1, 0, 1, 1, 1, 0],  # 28\n",
        "    [0, 1, 1, 1, 1, 0],  # 29\n",
        "    [1, 1, 1, 1, 1, 0],  # 30\n",
        "    [0, 0, 0, 0, 0, 1],  # 31\n",
        "    [1, 0, 0, 0, 0, 1],  # 32\n",
        "    [0, 1, 0, 0, 0, 1],  # 33\n",
        "    [1, 1, 0, 0, 0, 1],  # 34\n",
        "    [0, 0, 1, 0, 0, 1],  # 35\n",
        "    [1, 0, 1, 0, 0, 1],  # 36\n",
        "    [0, 1, 1, 0, 0, 1],  # 37\n",
        "    [1, 1, 1, 0, 0, 1],  # 38\n",
        "    [0, 0, 0, 1, 0, 1],  # 39\n",
        "    [1, 0, 0, 1, 0, 1],  # 40\n",
        "    [0, 1, 0, 1, 0, 1],  # 41\n",
        "    [1, 1, 0, 1, 0, 1],  # 42\n",
        "    [0, 0, 1, 1, 0, 1],  # 43\n",
        "    [1, 0, 1, 1, 0, 1],  # 44\n",
        "    [0, 1, 1, 1, 0, 1],  # 45\n",
        "    [1, 1, 1, 1, 0, 1],  # 46\n",
        "    [0, 0, 0, 0, 1, 1],  # 47\n",
        "    [1, 0, 0, 0, 1, 1],  # 48\n",
        "    [0, 1, 0, 0, 1, 1],  # 49\n",
        "    [1, 1, 0, 0, 1, 1],  # 50\n",
        "    [0, 0, 1, 0, 1, 1],  # 51\n",
        "    [1, 0, 1, 0, 1, 1],  # 52\n",
        "    [0, 1, 1, 0, 1, 1],  # 53\n",
        "    [1, 1, 1, 0, 1, 1],  # 54\n",
        "    [0, 0, 0, 1, 1, 1],  # 55\n",
        "    [1, 0, 0, 1, 1, 1],  # 56\n",
        "    [0, 1, 0, 1, 1, 1],  # 57\n",
        "    [1, 1, 0, 1, 1, 1],  # 58\n",
        "    [0, 0, 1, 1, 1, 1],  # 59\n",
        "    [1, 0, 1, 1, 1, 1],  # 60\n",
        "    [0, 1, 1, 1, 1, 1],  # 61\n",
        "    [1, 1, 1, 1, 1, 1]  # 62\n",
        "]\n",
        "\n",
        "# Saídas correspondentes (0-62 para os símbolos Braille)\n",
        "braille_labels = np.arange(63)\n",
        "\n",
        "# Normalizar os dados\n",
        "scaler = StandardScaler()\n",
        "braille_combinations = scaler.fit_transform(braille_combinations)\n",
        "\n",
        "X_train, X_test, y_train, y_test = train_test_split(braille_combinations, braille_labels, test_size=0.2, random_state=42)\n",
        "\n",
        "# treinar a MLP\n",
        "mlp = MLPClassifier(hidden_layer_sizes=(100, 50), activation='relu', max_iter=5000, random_state=42)\n",
        "mlp.fit(X_train, y_train)\n",
        "\n",
        "def predict_braille(inputs):\n",
        "    inputs = scaler.transform(inputs)  # Normalizar os dados de entrada\n",
        "    return mlp.predict(inputs)\n",
        "\n",
        "print('Saida em ordem para 100 neuronios na primeira camada, 50 para segunda camada')\n",
        "predicted_labels = predict_braille(braille_combinations)\n",
        "for sample, label in zip(braille_combinations, predicted_labels):\n",
        "    print(f\"Saída prevista: {label}\")\n"
      ],
      "metadata": {
        "colab": {
          "base_uri": "https://localhost:8080/"
        },
        "id": "6fW1RdtCfkRt",
        "outputId": "bcb36212-42d1-4646-d553-27f63b1eb461"
      },
      "execution_count": 76,
      "outputs": [
        {
          "output_type": "stream",
          "name": "stdout",
          "text": [
            "Saida em ordem para 100 neuronios na primeira camada, 50 para segunda camada\n",
            "Saída prevista: 2\n",
            "Saída prevista: 1\n",
            "Saída prevista: 2\n",
            "Saída prevista: 3\n",
            "Saída prevista: 4\n",
            "Saída prevista: 3\n",
            "Saída prevista: 6\n",
            "Saída prevista: 7\n",
            "Saída prevista: 8\n",
            "Saída prevista: 1\n",
            "Saída prevista: 10\n",
            "Saída prevista: 11\n",
            "Saída prevista: 11\n",
            "Saída prevista: 13\n",
            "Saída prevista: 14\n",
            "Saída prevista: 15\n",
            "Saída prevista: 15\n",
            "Saída prevista: 17\n",
            "Saída prevista: 18\n",
            "Saída prevista: 19\n",
            "Saída prevista: 20\n",
            "Saída prevista: 21\n",
            "Saída prevista: 18\n",
            "Saída prevista: 23\n",
            "Saída prevista: 24\n",
            "Saída prevista: 17\n",
            "Saída prevista: 26\n",
            "Saída prevista: 27\n",
            "Saída prevista: 28\n",
            "Saída prevista: 29\n",
            "Saída prevista: 30\n",
            "Saída prevista: 31\n",
            "Saída prevista: 32\n",
            "Saída prevista: 33\n",
            "Saída prevista: 34\n",
            "Saída prevista: 35\n",
            "Saída prevista: 4\n",
            "Saída prevista: 37\n",
            "Saída prevista: 38\n",
            "Saída prevista: 39\n",
            "Saída prevista: 39\n",
            "Saída prevista: 41\n",
            "Saída prevista: 42\n",
            "Saída prevista: 35\n",
            "Saída prevista: 44\n",
            "Saída prevista: 45\n",
            "Saída prevista: 46\n",
            "Saída prevista: 47\n",
            "Saída prevista: 48\n",
            "Saída prevista: 49\n",
            "Saída prevista: 50\n",
            "Saída prevista: 51\n",
            "Saída prevista: 52\n",
            "Saída prevista: 53\n",
            "Saída prevista: 54\n",
            "Saída prevista: 39\n",
            "Saída prevista: 56\n",
            "Saída prevista: 41\n",
            "Saída prevista: 58\n",
            "Saída prevista: 59\n",
            "Saída prevista: 52\n",
            "Saída prevista: 29\n",
            "Saída prevista: 62\n"
          ]
        }
      ]
    },
    {
      "cell_type": "code",
      "source": [
        "predictions"
      ],
      "metadata": {
        "colab": {
          "base_uri": "https://localhost:8080/"
        },
        "id": "wdrKGs1JXVVl",
        "outputId": "17a8adf3-d8b1-4c61-e4b8-93dd54fa2c77"
      },
      "execution_count": 33,
      "outputs": [
        {
          "output_type": "execute_result",
          "data": {
            "text/plain": [
              "array([29, 41, 32, 59,  6, 52, 24, 28, 23, 44, 23,  7, 32])"
            ]
          },
          "metadata": {},
          "execution_count": 33
        }
      ]
    },
    {
      "cell_type": "code",
      "source": [
        "y_test"
      ],
      "metadata": {
        "colab": {
          "base_uri": "https://localhost:8080/"
        },
        "id": "2kwaNDDFXcLp",
        "outputId": "74013fbe-4423-4d82-b614-6c80c273fd3d"
      },
      "execution_count": 34,
      "outputs": [
        {
          "output_type": "execute_result",
          "data": {
            "text/plain": [
              "array([61, 57,  0, 43,  5, 36, 16, 12, 25, 60, 55,  9, 40])"
            ]
          },
          "metadata": {},
          "execution_count": 34
        }
      ]
    }
  ]
}