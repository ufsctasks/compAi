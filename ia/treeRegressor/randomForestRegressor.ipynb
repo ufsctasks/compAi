{
  "nbformat": 4,
  "nbformat_minor": 0,
  "metadata": {
    "colab": {
      "provenance": []
    },
    "kernelspec": {
      "name": "python3",
      "display_name": "Python 3"
    },
    "language_info": {
      "name": "python"
    }
  },
  "cells": [
    {
      "cell_type": "code",
      "source": [
        "# Importar bibliotecas necessárias\n",
        "import pandas as pd\n",
        "import numpy as np\n",
        "from sklearn.ensemble import RandomForestRegressor\n",
        "from sklearn.model_selection import train_test_split\n",
        "from sklearn.metrics import mean_squared_error, r2_score\n",
        "import matplotlib.pyplot as plt\n",
        "\n",
        "# Carregar os dados do dataset Galton Families\n",
        "galton_families = pd.read_csv('/content/sample_data/GaltonFamilies.csv')\n",
        "\n",
        "# Exibir as primeiras linhas do dataset\n",
        "print(galton_families.head())\n",
        "\n",
        "# Separar os dados em variáveis de entrada (X) e saída (y)\n",
        "X = galton_families[['father', 'mother']].values\n",
        "y = galton_families['childHeight'].values\n",
        "\n",
        "# Dividir os dados em conjuntos de treinamento e teste\n",
        "X_treino, X_teste, y_treino, y_teste = train_test_split(X, y, test_size=0.3, random_state=0)\n",
        "\n",
        "# Exibir as formas dos conjuntos de treinamento e teste\n",
        "print(X_treino.shape)  # (N, 2)\n",
        "print(X_teste.shape)   # (M, 2)\n",
        "\n",
        "# Criar e treinar o modelo de Random Forest para regressão\n",
        "floresta = RandomForestRegressor(n_estimators=20, random_state=0)\n",
        "floresta.fit(X_treino, y_treino)\n",
        "\n",
        "# Fazer previsões no conjunto de teste\n",
        "previsoes = floresta.predict(X_teste)\n",
        "\n",
        "# Avaliar o modelo\n",
        "mse = mean_squared_error(y_teste, previsoes)\n",
        "r2 = r2_score(y_teste, previsoes)\n",
        "print(f\"Mean Squared Error: {mse}\")\n",
        "print(f\"R^2 Score: {r2}\")\n",
        "\n",
        "# Exibir previsões e valores reais para comparação\n",
        "resultados = pd.DataFrame({'Real': y_teste, 'Previsto': previsoes})\n",
        "print(resultados.head(10))\n"
      ],
      "metadata": {
        "colab": {
          "base_uri": "https://localhost:8080/"
        },
        "id": "uP0Vt6Ei7sG9",
        "outputId": "1bf1efe3-0388-4220-e5b6-af0b16427a10"
      },
      "execution_count": 4,
      "outputs": [
        {
          "output_type": "stream",
          "name": "stdout",
          "text": [
            "   rownames family  father  mother  midparentHeight  children  childNum  \\\n",
            "0         1    001    78.5    67.0            75.43         4         1   \n",
            "1         2    001    78.5    67.0            75.43         4         2   \n",
            "2         3    001    78.5    67.0            75.43         4         3   \n",
            "3         4    001    78.5    67.0            75.43         4         4   \n",
            "4         5    002    75.5    66.5            73.66         4         1   \n",
            "\n",
            "   gender  childHeight  \n",
            "0    male         73.2  \n",
            "1  female         69.2  \n",
            "2  female         69.0  \n",
            "3  female         69.0  \n",
            "4    male         73.5  \n",
            "(653, 2)\n",
            "(281, 2)\n",
            "Mean Squared Error: 12.91862290887036\n",
            "R^2 Score: -0.07114447955720582\n",
            "   Real   Previsto\n",
            "0  68.5  65.695000\n",
            "1  71.0  66.713071\n",
            "2  70.0  66.213512\n",
            "3  70.2  66.401071\n",
            "4  69.0  68.100716\n",
            "5  63.0  66.650238\n",
            "6  71.0  66.871429\n",
            "7  70.5  64.551441\n",
            "8  66.5  67.776812\n",
            "9  68.5  67.549306\n"
          ]
        }
      ]
    }
  ]
}